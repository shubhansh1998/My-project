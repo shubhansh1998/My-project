{
 "cells": [
  {
   "cell_type": "markdown",
   "id": "b14eccda",
   "metadata": {},
   "source": [
    "###  Write a program to find distinct colours from below array \n",
    "[\"red\",\"blue\",\"green\",\"blue\",\"yellow\",\"red\"] "
   ]
  },
  {
   "cell_type": "code",
   "execution_count": 7,
   "id": "7e05361a",
   "metadata": {},
   "outputs": [
    {
     "data": {
      "text/plain": [
       "'red'"
      ]
     },
     "execution_count": 7,
     "metadata": {},
     "output_type": "execute_result"
    }
   ],
   "source": [
    "import random\n",
    "color_list=[\"red\",\"blue\",\"green\",\"blue\",\"yellow\",\"red\"]\n",
    "random.choice(color_list)"
   ]
  },
  {
   "cell_type": "markdown",
   "id": "b88a4262",
   "metadata": {},
   "source": [
    "### Write a program to find the largest number from below array \n",
    "[12, 51, 23, 78, 92, 65]"
   ]
  },
  {
   "cell_type": "code",
   "execution_count": 1,
   "id": "51810b84",
   "metadata": {},
   "outputs": [
    {
     "name": "stdout",
     "output_type": "stream",
     "text": [
      "92\n"
     ]
    }
   ],
   "source": [
    "lst=[12, 51, 23, 78, 92, 65]\n",
    "max=lst[0]\n",
    "for i in lst:\n",
    "    if i>max:\n",
    "        max=i\n",
    "print(max)"
   ]
  },
  {
   "cell_type": "markdown",
   "id": "c9a037e5",
   "metadata": {},
   "source": [
    "### Write a program to find total no of vowels from below string \n",
    "\"You learn more from failure than from success.\" "
   ]
  },
  {
   "cell_type": "markdown",
   "id": "ab297008",
   "metadata": {},
   "source": [
    "str=\"You learn more from failure than from success.\"\n",
    "vowels='aeiouAEIOU'\n",
    "count=0\n",
    "for i in str:\n",
    "    for j in vowels:\n",
    "        if i==j:\n",
    "            print(i)\n",
    "            count=count+1\n",
    "            \n",
    "print(\"Number of vowels is :-\",count)"
   ]
  },
  {
   "cell_type": "markdown",
   "id": "8a6c2807",
   "metadata": {},
   "source": [
    "### Write a program to find common characters from below strings. \n",
    "\"SMASH\", \"FLASH\""
   ]
  },
  {
   "cell_type": "code",
   "execution_count": 29,
   "id": "c31fc37e",
   "metadata": {},
   "outputs": [
    {
     "name": "stdout",
     "output_type": "stream",
     "text": [
      "['S', 'A', 'S', 'H']\n",
      "Common character in the strings is := {'S', 'H', 'A'}\n"
     ]
    },
    {
     "data": {
      "text/plain": [
       "'SHA'"
      ]
     },
     "execution_count": 29,
     "metadata": {},
     "output_type": "execute_result"
    }
   ],
   "source": [
    "str1=\"SMASH\"\n",
    "str2= \"FLASH\"\n",
    "lst=[]\n",
    "for i in str1:\n",
    "    for j in str2:\n",
    "        if i==j:\n",
    "            lst.append(i)\n",
    "print(lst)\n",
    "print(\"Common character in the strings is :=\",set(lst)) \n",
    "''.join(set(lst))"
   ]
  },
  {
   "cell_type": "markdown",
   "id": "b43b761e",
   "metadata": {},
   "source": [
    "### Write a program to check whether given string is palindrome or not\n"
   ]
  },
  {
   "cell_type": "code",
   "execution_count": 39,
   "id": "a91a5ea8",
   "metadata": {},
   "outputs": [
    {
     "name": "stdout",
     "output_type": "stream",
     "text": [
      "Enter the string :-Abhinav\n",
      "Given string is not palidrom\n"
     ]
    }
   ],
   "source": [
    "str1=input(\"Enter the string :-\")\n",
    "\n",
    "if str1==str1[::-1]:\n",
    "    print(\"Given string is palindrom\")\n",
    "else:\n",
    "    print(\"Given string is not palidrom\")"
   ]
  },
  {
   "cell_type": "code",
   "execution_count": 49,
   "id": "9cd1c2cb",
   "metadata": {},
   "outputs": [
    {
     "name": "stdout",
     "output_type": "stream",
     "text": [
      "Enter the string :=abhinav\n",
      "String after reverse :- vanihba\n",
      "Not Palindrom\n"
     ]
    }
   ],
   "source": [
    "str2=input(\"Enter the string :=\")\n",
    "rev_str=\"\".join(reversed(str2))\n",
    "print('String after reverse :-',rev_str)\n",
    "if str2==rev_str:\n",
    "    print(\"Palindrom\")\n",
    "else:\n",
    "    print(\"Not Palindrom\")"
   ]
  },
  {
   "cell_type": "markdown",
   "id": "29a22021",
   "metadata": {},
   "source": [
    "### Write a program to count total number of duplicate elements from below array \n",
    "Ex: [22, 15, 63, 45, 15, 81, 22, 12]"
   ]
  },
  {
   "cell_type": "code",
   "execution_count": 58,
   "id": "c89139c9",
   "metadata": {},
   "outputs": [
    {
     "name": "stdout",
     "output_type": "stream",
     "text": [
      "Counter({22: 2, 15: 2, 63: 1, 45: 1, 81: 1, 12: 1})\n"
     ]
    }
   ],
   "source": [
    "from collections import Counter\n",
    "lst=[22, 15, 63, 45, 15, 81, 22, 12]\n",
    "res=Counter(lst)\n",
    "print(res)\n",
    "\n",
    "    "
   ]
  },
  {
   "cell_type": "code",
   "execution_count": 76,
   "id": "bdb24a74",
   "metadata": {},
   "outputs": [
    {
     "name": "stdout",
     "output_type": "stream",
     "text": [
      "15\n",
      "20\n",
      "20\n",
      "30\n",
      "40\n",
      "50\n"
     ]
    }
   ],
   "source": [
    "my_list = [20,30,20,30,40,50,15,11,20,40,50,15] \n",
    "my_list.sort() \n",
    "for i in range (len (my_list) -1):\n",
    "    if my_list[i] == my_list[i+1]:\n",
    "        print(my_list[i]) "
   ]
  },
  {
   "cell_type": "code",
   "execution_count": 83,
   "id": "f2f10943",
   "metadata": {},
   "outputs": [
    {
     "name": "stdout",
     "output_type": "stream",
     "text": [
      "[1, 2, 3]\n"
     ]
    }
   ],
   "source": [
    "list1 = [1,2,1,3] \n",
    "unique = [] \n",
    "for ele in list1: \n",
    "    if ele not in unique: \n",
    "        unique.append(ele) \n",
    "print(unique)\n"
   ]
  },
  {
   "cell_type": "code",
   "execution_count": 94,
   "id": "68e12e38",
   "metadata": {},
   "outputs": [
    {
     "name": "stdout",
     "output_type": "stream",
     "text": [
      "vanihba\n"
     ]
    }
   ],
   "source": [
    "str=\"abhinav\"\n",
    "str1=''\n",
    "rev=str1.join(reversed(str))\n",
    "print(rev)"
   ]
  },
  {
   "cell_type": "markdown",
   "id": "9df470c9",
   "metadata": {},
   "source": [
    "### Write a program to find total number of elements that are exactly divisible by 10 from below array \n",
    "Ex: [22, 50, 80, 20, 46, 5]"
   ]
  },
  {
   "cell_type": "code",
   "execution_count": 100,
   "id": "718b618f",
   "metadata": {},
   "outputs": [
    {
     "name": "stdout",
     "output_type": "stream",
     "text": [
      "50\n",
      "80\n",
      "20\n",
      "3\n",
      "150\n"
     ]
    }
   ],
   "source": [
    "lst=[22, 50, 80, 20, 46, 5]\n",
    "count=0\n",
    "sum=0\n",
    "for i in range(0,len(lst)):\n",
    "    if lst[i]%10==0:\n",
    "        count=count+1\n",
    "        sum=sum+lst[i]\n",
    "        print(lst[i])\n",
    "print(count)\n",
    "print(sum)\n"
   ]
  },
  {
   "cell_type": "markdown",
   "id": "f21f1056",
   "metadata": {},
   "source": [
    "### 3. Write a program to check whether the given number is in between 1 and 100 ?"
   ]
  },
  {
   "cell_type": "code",
   "execution_count": 1,
   "id": "d527daae",
   "metadata": {},
   "outputs": [
    {
     "name": "stdout",
     "output_type": "stream",
     "text": [
      "Enter the number100\n",
      "no\n"
     ]
    }
   ],
   "source": [
    "num=int(input(\"Enter the number\"))\n",
    "if num>0 and num<100:\n",
    "    print(\"Yes\")\n",
    "else:\n",
    "    print('no')"
   ]
  },
  {
   "cell_type": "code",
   "execution_count": null,
   "id": "215ab616",
   "metadata": {},
   "outputs": [
    {
     "name": "stdout",
     "output_type": "stream",
     "text": [
      "number: qer\n",
      "input not valid - please retry\n"
     ]
    }
   ],
   "source": [
    "\n",
    "while True:\n",
    "  x = input(\"number: \")\n",
    "  if x.isnumeric():\n",
    "    x = int(x)\n",
    "    break\n",
    "  else:\n",
    "    print('input not valid - please retry')\n",
    "\n",
    "print(f\"{x} is {['not ',''][x in range(1,101)]}a member of the range between 1 and 100 inclusive.\")"
   ]
  },
  {
   "cell_type": "code",
   "execution_count": null,
   "id": "149824c5",
   "metadata": {},
   "outputs": [],
   "source": []
  }
 ],
 "metadata": {
  "kernelspec": {
   "display_name": "Python 3 (ipykernel)",
   "language": "python",
   "name": "python3"
  },
  "language_info": {
   "codemirror_mode": {
    "name": "ipython",
    "version": 3
   },
   "file_extension": ".py",
   "mimetype": "text/x-python",
   "name": "python",
   "nbconvert_exporter": "python",
   "pygments_lexer": "ipython3",
   "version": "3.9.12"
  }
 },
 "nbformat": 4,
 "nbformat_minor": 5
}
